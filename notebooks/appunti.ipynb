{
 "cells": [
  {
   "metadata": {},
   "cell_type": "markdown",
   "source": [
    "\n",
    "### Appunti"
   ],
   "id": "5695805fd4b024d5"
  },
  {
   "metadata": {},
   "cell_type": "markdown",
   "source": [
    "Facendo un po di preprocessing sui dataset, noto che l'altezza massima delle immagini è 800 pixel.\n",
    "Una possibile soluzione per le CNN sarebbe di aggiungere padding per portare tutte le immagini a 800 pixel di altezza.\n",
    "Tuttavia, analizzando i casi particolari, noto che in realtà ci sono solamente 20 immagini nel dataset con un'altezza maggiore di 160 pixel.\n",
    "Queste 20 immagini si trovano tutte nel dataset di test, perciò posso decidere di eliminarle per semplicità, dato il numero esiguo."
   ],
   "id": "fe4e3d3869d2270c"
  },
  {
   "metadata": {},
   "cell_type": "markdown",
   "source": [
    "800px → ./archive/formula_images_processed/formula_images_processed/44b0400a8a.png\n",
    "800px → ./archive/formula_images_processed/formula_images_processed/5738b433bc.png\n",
    "800px → ./archive/formula_images_processed/formula_images_processed/2b80174519.png\n",
    "800px → ./archive/formula_images_processed/formula_images_processed/5712d3adfe.png\n",
    "800px → ./archive/formula_images_processed/formula_images_processed/1aad846709.png\n",
    "800px → ./archive/formula_images_processed/formula_images_processed/5f1d35cee0.png\n",
    "800px → ./archive/formula_images_processed/formula_images_processed/3dc0011de9.png\n",
    "800px → ./archive/formula_images_processed/formula_images_processed/41b880f753.png\n",
    "800px → ./archive/formula_images_processed/formula_images_processed/2c8c507d9b.png\n",
    "800px → ./archive/formula_images_processed/formula_images_processed/2e89419516.png\n",
    "800px → ./archive/formula_images_processed/formula_images_processed/746471e16f.png\n",
    "800px → ./archive/formula_images_processed/formula_images_processed/63aa02b2dc.png\n",
    "800px → ./archive/formula_images_processed/formula_images_processed/34748d7032.png\n",
    "800px → ./archive/formula_images_processed/formula_images_processed/9e320dbb72.png\n",
    "800px → ./archive/formula_images_processed/formula_images_processed/44a7582c31.png\n",
    "800px → ./archive/formula_images_processed/formula_images_processed/76f27b5142.png\n",
    "800px → ./archive/formula_images_processed/formula_images_processed/2932cca800.png"
   ],
   "id": "fca41735fd1756ae"
  },
  {
   "metadata": {},
   "cell_type": "code",
   "outputs": [],
   "execution_count": null,
   "source": "",
   "id": "72ec23f0ee7f4bcb"
  },
  {
   "metadata": {},
   "cell_type": "markdown",
   "source": "Dimensione scelta per le immagini: 800x160",
   "id": "b5c588cae075607c"
  },
  {
   "metadata": {},
   "cell_type": "code",
   "outputs": [],
   "execution_count": null,
   "source": "",
   "id": "f878d28184603035"
  }
 ],
 "metadata": {
  "kernelspec": {
   "display_name": "Python 3",
   "language": "python",
   "name": "python3"
  },
  "language_info": {
   "codemirror_mode": {
    "name": "ipython",
    "version": 2
   },
   "file_extension": ".py",
   "mimetype": "text/x-python",
   "name": "python",
   "nbconvert_exporter": "python",
   "pygments_lexer": "ipython2",
   "version": "2.7.6"
  }
 },
 "nbformat": 4,
 "nbformat_minor": 5
}
