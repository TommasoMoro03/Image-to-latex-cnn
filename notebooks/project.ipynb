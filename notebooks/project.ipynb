{
 "cells": [
  {
   "metadata": {},
   "cell_type": "markdown",
   "source": [
    "## Introduction\n",
    "This notebook is designed to implement a converter from images to LaTeX code."
   ],
   "id": "85c4772d359056d8"
  },
  {
   "cell_type": "code",
   "id": "initial_id",
   "metadata": {
    "collapsed": true,
    "ExecuteTime": {
     "end_time": "2025-06-13T07:24:43.893660Z",
     "start_time": "2025-06-13T07:24:43.888530Z"
    }
   },
   "source": [
    "import os\n",
    "import numpy as np\n",
    "import matplotlib.pyplot as plt\n",
    "import pandas as pd\n",
    "from tqdm.notebook import tqdm # progress bar for notebooks\n",
    "from PIL import Image, ImageOps\n",
    "import random\n",
    "import seaborn as sns"
   ],
   "outputs": [],
   "execution_count": 11
  },
  {
   "metadata": {},
   "cell_type": "markdown",
   "source": "### Dataset Exploration",
   "id": "b528dce9459c4f95"
  },
  {
   "metadata": {
    "ExecuteTime": {
     "end_time": "2025-06-13T07:03:20.942914Z",
     "start_time": "2025-06-13T07:03:20.939545Z"
    }
   },
   "cell_type": "code",
   "source": [
    "def show_image_from_path(img_path):\n",
    "    \"\"\"\n",
    "    Displays an image given its file path.\n",
    "    \"\"\"\n",
    "    with Image.open(img_path) as img:\n",
    "        plt.figure(figsize=(8, 4))\n",
    "        plt.imshow(img, cmap='gray')\n",
    "        plt.axis('off')\n",
    "        plt.title(f\"Image: {os.path.basename(img_path)}\", fontsize=12)\n",
    "        plt.show()"
   ],
   "id": "c84f1fa31c874976",
   "outputs": [],
   "execution_count": 2
  },
  {
   "metadata": {
    "ExecuteTime": {
     "end_time": "2025-06-13T07:24:31.245369Z",
     "start_time": "2025-06-13T07:24:31.241843Z"
    }
   },
   "cell_type": "code",
   "source": [
    "DATA_DIR = \"../archive\"\n",
    "IMAGE_DIR = os.path.join(DATA_DIR, \"formula_images_processed/formula_images_processed\")\n",
    "TRAIN_SPLIT_FILE = os.path.join(DATA_DIR, 'im2latex_train.csv')\n",
    "VALID_SPLIT_FILE = os.path.join(DATA_DIR, 'im2latex_validate.csv')\n",
    "TEST_SPLIT_FILE = os.path.join(DATA_DIR, 'im2latex_test.csv')\n",
    "FORMULAS_FILE = os.path.join(DATA_DIR, 'im2latex_formulas.norm.csv')"
   ],
   "id": "dd9a292d30b638fe",
   "outputs": [],
   "execution_count": 8
  },
  {
   "metadata": {
    "ExecuteTime": {
     "end_time": "2025-06-13T07:03:27.220747Z",
     "start_time": "2025-06-13T07:03:24.356559Z"
    }
   },
   "cell_type": "code",
   "source": [
    "def load_dataset_split_csv(filepath):\n",
    "    df = pd.read_csv(filepath)\n",
    "\n",
    "    # Build the list of tuples (image_path, formula)\n",
    "    data = []\n",
    "    for index, row in tqdm(df.iterrows(), total=len(df), desc=f\"Loading {os.path.basename(filepath)}\"):\n",
    "        img_name = row['image']\n",
    "        formula = str(row['formula'])\n",
    "        img_path = os.path.join(IMAGE_DIR, img_name)\n",
    "        data.append((img_path, formula))\n",
    "    return data\n",
    "\n",
    "print(\"Loading training dataset...\")\n",
    "train_data = load_dataset_split_csv(TRAIN_SPLIT_FILE)\n",
    "print(f\"Number of training samples: {len(train_data)}\")\n",
    "\n",
    "print(\"\\nLoading validation dataset...\")\n",
    "valid_data = load_dataset_split_csv(VALID_SPLIT_FILE)\n",
    "print(f\"Number of validation samples: {len(valid_data)}\")\n",
    "\n",
    "print(\"\\nLoading test dataset...\")\n",
    "test_data = load_dataset_split_csv(TEST_SPLIT_FILE)\n",
    "print(f\"Number of test samples: {len(test_data)}\")"
   ],
   "id": "f1c5ae8c4105b18a",
   "outputs": [
    {
     "name": "stdout",
     "output_type": "stream",
     "text": [
      "Loading training dataset...\n"
     ]
    },
    {
     "data": {
      "text/plain": [
       "Loading im2latex_train.csv:   0%|          | 0/75275 [00:00<?, ?it/s]"
      ],
      "application/vnd.jupyter.widget-view+json": {
       "version_major": 2,
       "version_minor": 0,
       "model_id": "5aac141dc8cf4140a0fb98164d0a547c"
      }
     },
     "metadata": {},
     "output_type": "display_data"
    },
    {
     "name": "stdout",
     "output_type": "stream",
     "text": [
      "Number of training samples: 75275\n",
      "\n",
      "Loading validation dataset...\n"
     ]
    },
    {
     "data": {
      "text/plain": [
       "Loading im2latex_validate.csv:   0%|          | 0/8370 [00:00<?, ?it/s]"
      ],
      "application/vnd.jupyter.widget-view+json": {
       "version_major": 2,
       "version_minor": 0,
       "model_id": "41ab61864e814647bdd3e01c3d45e96f"
      }
     },
     "metadata": {},
     "output_type": "display_data"
    },
    {
     "name": "stdout",
     "output_type": "stream",
     "text": [
      "Number of validation samples: 8370\n",
      "\n",
      "Loading test dataset...\n"
     ]
    },
    {
     "data": {
      "text/plain": [
       "Loading im2latex_test.csv:   0%|          | 0/10355 [00:00<?, ?it/s]"
      ],
      "application/vnd.jupyter.widget-view+json": {
       "version_major": 2,
       "version_minor": 0,
       "model_id": "2a74330bc7054a379f9e21d8f36c4cf3"
      }
     },
     "metadata": {},
     "output_type": "display_data"
    },
    {
     "name": "stdout",
     "output_type": "stream",
     "text": [
      "Number of test samples: 10355\n"
     ]
    }
   ],
   "execution_count": 4
  },
  {
   "metadata": {
    "ExecuteTime": {
     "end_time": "2025-06-13T07:03:34.799696Z",
     "start_time": "2025-06-13T07:03:34.340438Z"
    }
   },
   "cell_type": "code",
   "source": [
    "def show_image_formula_pairs(data, n=5):\n",
    "    \"\"\"Show n random image-formula pairs from the dataset\"\"\"\n",
    "    samples = random.sample(data, n)\n",
    "\n",
    "    plt.figure(figsize=(15, 3 * n))\n",
    "    for i, (img_path, formula) in enumerate(samples):\n",
    "        img = Image.open(img_path)\n",
    "\n",
    "        plt.subplot(n, 1, i + 1)\n",
    "        plt.imshow(img, cmap='gray')\n",
    "        plt.axis('off')\n",
    "        plt.title(formula, fontsize=12)\n",
    "\n",
    "    plt.tight_layout()\n",
    "    plt.show()\n",
    "\n",
    "show_image_formula_pairs(train_data, n=5)"
   ],
   "id": "3210af669d82a73",
   "outputs": [
    {
     "data": {
      "text/plain": [
       "<Figure size 1500x1500 with 5 Axes>"
      ],
      "image/png": "[encoded data removed]"
     },
     "metadata": {},
     "output_type": "display_data"
    }
   ],
   "execution_count": 5
  },
  {
   "metadata": {
    "ExecuteTime": {
     "end_time": "2025-06-13T07:03:41.360689Z",
     "start_time": "2025-06-13T07:03:40.089484Z"
    }
   },
   "cell_type": "code",
   "source": [
    "# Collect width and height of a sample of images\n",
    "def get_image_sizes(data, sample_size=1000):\n",
    "    \"\"\"Return a list of (width, height) for a sample of images.\"\"\"\n",
    "    samples = random.sample(data, min(sample_size, len(data)))\n",
    "    sizes = []\n",
    "    for img_path, _ in samples:\n",
    "        with Image.open(img_path) as img:\n",
    "            sizes.append(img.size)  # (width, height)\n",
    "    return sizes\n",
    "\n",
    "print(\"Analyzing image sizes...\")\n",
    "image_sizes = get_image_sizes(train_data, sample_size=5000)\n",
    "widths, heights = zip(*image_sizes)\n",
    "\n",
    "# Basic statistics\n",
    "print(f\"Number of images analyzed: {len(image_sizes)}\")\n",
    "print(f\"Min size: {min(widths)}x{min(heights)}\")\n",
    "print(f\"Max size: {max(widths)}x{max(heights)}\")\n",
    "print(f\"Average size: {sum(widths)//len(widths)}x{sum(heights)//len(heights)}\")\n",
    "print(f\"Median size: {int(np.median(widths))}x{int(np.median(heights))}\")\n",
    "\n",
    "# Plot distribution of widths and heights\n",
    "plt.figure(figsize=(12, 5))\n",
    "plt.subplot(1, 2, 1)\n",
    "sns.histplot(widths, bins=50)\n",
    "plt.title(\"Image Width Distribution\")\n",
    "plt.xlabel(\"Width (pixels)\")\n",
    "plt.ylabel(\"Count\")\n",
    "\n",
    "plt.subplot(1, 2, 2)\n",
    "sns.histplot(heights, bins=50)\n",
    "plt.title(\"Image Height Distribution\")\n",
    "plt.xlabel(\"Height (pixels)\")\n",
    "plt.ylabel(\"Count\")\n",
    "\n",
    "plt.tight_layout()\n",
    "plt.show()"
   ],
   "id": "3cfa15810198b4f",
   "outputs": [
    {
     "name": "stdout",
     "output_type": "stream",
     "text": [
      "Analyzing image sizes...\n",
      "Number of images analyzed: 5000\n",
      "Min size: 128x32\n",
      "Max size: 480x160\n",
      "Average size: 283x52\n",
      "Median size: 256x64\n"
     ]
    },
    {
     "data": {
      "text/plain": [
       "<Figure size 1200x500 with 2 Axes>"
      ],
      "image/png": "[encoded data removed]"
     },
     "metadata": {},
     "output_type": "display_data"
    }
   ],
   "execution_count": 6
  },
  {
   "metadata": {
    "ExecuteTime": {
     "end_time": "2025-06-13T07:03:47.245132Z",
     "start_time": "2025-06-13T07:03:47.239905Z"
    }
   },
   "cell_type": "code",
   "source": [
    "def get_max_image_size(datasets):\n",
    "    \"\"\"\n",
    "    Returns the maximum and minimum width/height across all datasets,\n",
    "    and prints the paths of the images with max and min width.\n",
    "    \"\"\"\n",
    "    max_width, max_height = 0, 0\n",
    "    min_width = float('inf')\n",
    "    min_height = float('inf')\n",
    "\n",
    "    max_width_path = \"\"\n",
    "    min_width_path = \"\"\n",
    "\n",
    "    for dataset in datasets:\n",
    "        for img_path, _ in tqdm(dataset, desc=\"Scanning image sizes\"):\n",
    "            with Image.open(img_path) as img:\n",
    "                width, height = img.size\n",
    "\n",
    "                if width > max_width:\n",
    "                    max_width = width\n",
    "                    max_width_path = img_path\n",
    "\n",
    "                if width < min_width:\n",
    "                    min_width = width\n",
    "                    min_width_path = img_path\n",
    "\n",
    "                if height > max_height:\n",
    "                    max_height = height\n",
    "                    max_height_path = img_path\n",
    "\n",
    "                if height < min_height:\n",
    "                    min_height = height\n",
    "                    min_height_path = img_path\n",
    "\n",
    "    print(f\"\\nWidest image: {max_width} px → {max_width_path}\")\n",
    "    print(f\"Narrowest image: {min_width} px → {min_width_path}\")\n",
    "    print(f\"Tallest image: {max_height} px → {max_height_path}\")\n",
    "    print(f\"Shortest image: {min_height} px → {min_height_path}\")\n",
    "\n",
    "    return max_width, min_width"
   ],
   "id": "a537d79de0449a84",
   "outputs": [],
   "execution_count": 7
  },
  {
   "metadata": {
    "ExecuteTime": {
     "end_time": "2025-06-13T07:04:05.016182Z",
     "start_time": "2025-06-13T07:03:47.978155Z"
    }
   },
   "cell_type": "code",
   "source": [
    "max_w, max_h = get_max_image_size([train_data, valid_data, test_data])\n",
    "print(f\"Max image size (rounded): {max_w}x{max_h}\")"
   ],
   "id": "5967e180d5703de5",
   "outputs": [
    {
     "data": {
      "text/plain": [
       "Scanning image sizes:   0%|          | 0/75275 [00:00<?, ?it/s]"
      ],
      "application/vnd.jupyter.widget-view+json": {
       "version_major": 2,
       "version_minor": 0,
       "model_id": "ea2e6ccf254b4cdda03be9a8df8dceda"
      }
     },
     "metadata": {},
     "output_type": "display_data"
    },
    {
     "data": {
      "text/plain": [
       "Scanning image sizes:   0%|          | 0/8370 [00:00<?, ?it/s]"
      ],
      "application/vnd.jupyter.widget-view+json": {
       "version_major": 2,
       "version_minor": 0,
       "model_id": "aae86df444ab4b4ca72a00f3fd295e5c"
      }
     },
     "metadata": {},
     "output_type": "display_data"
    },
    {
     "data": {
      "text/plain": [
       "Scanning image sizes:   0%|          | 0/10355 [00:00<?, ?it/s]"
      ],
      "application/vnd.jupyter.widget-view+json": {
       "version_major": 2,
       "version_minor": 0,
       "model_id": "8d77827db8a2440f98fa3204a18db901"
      }
     },
     "metadata": {},
     "output_type": "display_data"
    },
    {
     "name": "stdout",
     "output_type": "stream",
     "text": [
      "\n",
      "Widest image: 800 px → ./archive/formula_images_processed/formula_images_processed/399e18a85c.png\n",
      "Narrowest image: 128 px → ./archive/formula_images_processed/formula_images_processed/e265f9dc6b.png\n",
      "Tallest image: 800 px → ./archive/formula_images_processed/formula_images_processed/44b0400a8a.png\n",
      "Shortest image: 32 px → ./archive/formula_images_processed/formula_images_processed/1cbb05a562.png\n",
      "Max image size (rounded): 800x128\n"
     ]
    }
   ],
   "execution_count": 8
  },
  {
   "metadata": {
    "ExecuteTime": {
     "end_time": "2025-06-12T08:40:05.864870Z",
     "start_time": "2025-06-12T08:40:05.861939Z"
    }
   },
   "cell_type": "code",
   "source": [
    "def find_tall_images(datasets, height_threshold=320, max_display=20):\n",
    "    \"\"\"\n",
    "    Finds and reports images with height greater than a given threshold.\n",
    "\n",
    "    Args:\n",
    "        datasets (list of datasets): list of (img_path, formula) pairs.\n",
    "        height_threshold (int): height in pixels to consider as 'too tall'.\n",
    "        max_display (int): number of image paths to print.\n",
    "\n",
    "    Returns:\n",
    "        List of (img_path, height) for images above the threshold.\n",
    "    \"\"\"\n",
    "    tall_images = []\n",
    "\n",
    "    for dataset in datasets:\n",
    "        for img_path, _ in dataset:\n",
    "            with Image.open(img_path) as img:\n",
    "                width, height = img.size\n",
    "                if height > height_threshold:\n",
    "                    tall_images.append((img_path, height))\n",
    "\n",
    "    print(f\"\\nFound {len(tall_images)} images taller than {height_threshold}px.\")\n",
    "\n",
    "    if tall_images:\n",
    "        print(f\"Showing up to {max_display} example paths:\")\n",
    "        for img_path, h in tall_images[:max_display]:\n",
    "            print(f\"{h}px → {img_path}\")\n",
    "\n",
    "    return tall_images\n"
   ],
   "id": "20642f4d1539b81",
   "outputs": [],
   "execution_count": 48
  },
  {
   "metadata": {
    "ExecuteTime": {
     "end_time": "2025-06-12T08:40:18.267900Z",
     "start_time": "2025-06-12T08:40:07.081576Z"
    }
   },
   "cell_type": "code",
   "source": [
    "# Cerca immagini con altezza > 320\n",
    "tall_images = find_tall_images([train_data, valid_data, test_data], height_threshold=161)\n",
    "\n",
    "print(f\"\\nTotal tall images found: {len(tall_images)}\")"
   ],
   "id": "f05ec442470ce17d",
   "outputs": [
    {
     "name": "stdout",
     "output_type": "stream",
     "text": [
      "\n",
      "Found 12367 images taller than 401px.\n",
      "Showing up to 20 example paths:\n",
      "480px → ./archive/formula_images_processed/formula_images_processed/a4d25113b2.png\n",
      "480px → ./archive/formula_images_processed/formula_images_processed/3cf9d0b234.png\n",
      "480px → ./archive/formula_images_processed/formula_images_processed/5d1a1ed037.png\n",
      "480px → ./archive/formula_images_processed/formula_images_processed/6fefdec123.png\n",
      "480px → ./archive/formula_images_processed/formula_images_processed/9016b4fca0.png\n",
      "480px → ./archive/formula_images_processed/formula_images_processed/2cb87ed9c8.png\n",
      "480px → ./archive/formula_images_processed/formula_images_processed/4c6c104eb5.png\n",
      "480px → ./archive/formula_images_processed/formula_images_processed/427968501c.png\n",
      "480px → ./archive/formula_images_processed/formula_images_processed/65d334ea47.png\n",
      "480px → ./archive/formula_images_processed/formula_images_processed/2b8e14887f.png\n",
      "480px → ./archive/formula_images_processed/formula_images_processed/1ba2cffb3c.png\n",
      "480px → ./archive/formula_images_processed/formula_images_processed/2d0a8b7347.png\n",
      "480px → ./archive/formula_images_processed/formula_images_processed/616706dd5a.png\n",
      "480px → ./archive/formula_images_processed/formula_images_processed/58dfa3dbcf.png\n",
      "480px → ./archive/formula_images_processed/formula_images_processed/7e82073cd5.png\n",
      "480px → ./archive/formula_images_processed/formula_images_processed/ff5d66560d.png\n",
      "480px → ./archive/formula_images_processed/formula_images_processed/1cd201bfa8.png\n",
      "480px → ./archive/formula_images_processed/formula_images_processed/3a13510507.png\n",
      "480px → ./archive/formula_images_processed/formula_images_processed/24b499dc70.png\n",
      "480px → ./archive/formula_images_processed/formula_images_processed/55783f169a.png\n",
      "\n",
      "Total tall images found: 12367\n"
     ]
    }
   ],
   "execution_count": 49
  },
  {
   "metadata": {},
   "cell_type": "markdown",
   "source": "### Padding and saving of cleaned images",
   "id": "c3b34372c4cbcdce"
  },
  {
   "metadata": {
    "ExecuteTime": {
     "end_time": "2025-06-12T08:56:33.325536Z",
     "start_time": "2025-06-12T08:56:33.321694Z"
    }
   },
   "cell_type": "code",
   "source": [
    "def pad_image_to_size(img, target_size, background_color=(255, 255, 255)):\n",
    "    \"\"\"\n",
    "    Pads an image to the target (width, height) with symmetric padding.\n",
    "    The image is centered, and the background is white.\n",
    "    \"\"\"\n",
    "    target_width, target_height = target_size\n",
    "    img = img.convert(\"RGB\")  # Ensure consistent mode\n",
    "\n",
    "    width, height = img.size\n",
    "\n",
    "    if width > target_width or height > target_height:\n",
    "        raise ValueError(f\"Image size {width}x{height} exceeds target {target_width}x{target_height}.\")\n",
    "\n",
    "    delta_width = target_width - width\n",
    "    delta_height = target_height - height\n",
    "\n",
    "    pad_left = delta_width // 2\n",
    "    pad_right = delta_width - pad_left\n",
    "    pad_top = delta_height // 2\n",
    "    pad_bottom = delta_height - pad_top\n",
    "\n",
    "    padding = (pad_left, pad_top, pad_right, pad_bottom)\n",
    "    return ImageOps.expand(img, padding, fill=background_color)"
   ],
   "id": "a628cb2c6bc8d055",
   "outputs": [],
   "execution_count": 54
  },
  {
   "metadata": {
    "ExecuteTime": {
     "end_time": "2025-06-12T08:48:37.414655Z",
     "start_time": "2025-06-12T08:48:37.411413Z"
    }
   },
   "cell_type": "code",
   "source": [
    "import os\n",
    "from tqdm import tqdm\n",
    "\n",
    "def save_clean_padded_dataset(data, output_dir, target_size, excluded_paths=None):\n",
    "    \"\"\"\n",
    "    Saves all images in `data` to `output_dir`, padded to `target_size`.\n",
    "    Excludes images in `excluded_paths`.\n",
    "\n",
    "    Args:\n",
    "        data (list): list of (img_path, formula)\n",
    "        output_dir (str): where to save new images\n",
    "        target_size (tuple): (width, height)\n",
    "        excluded_paths (set): paths to skip\n",
    "    \"\"\"\n",
    "    os.makedirs(output_dir, exist_ok=True)\n",
    "    excluded_paths = excluded_paths or set()\n",
    "\n",
    "    for img_path, _ in tqdm(data, desc=f\"Saving padded images to {output_dir}\"):\n",
    "        if img_path in excluded_paths:\n",
    "            continue\n",
    "\n",
    "        try:\n",
    "            with Image.open(img_path) as img:\n",
    "                padded_img = pad_image_to_size(img, target_size)\n",
    "                filename = os.path.basename(img_path)\n",
    "                name, ext = os.path.splitext(filename)\n",
    "                new_filename = f\"{name}_resized{ext}\"\n",
    "                save_path = os.path.join(output_dir, new_filename)\n",
    "                padded_img.save(save_path)\n",
    "        except Exception as e:\n",
    "            print(f\"Error processing {img_path}: {e}\")\n"
   ],
   "id": "e3e22eef07649b91",
   "outputs": [],
   "execution_count": 52
  },
  {
   "metadata": {
    "ExecuteTime": {
     "end_time": "2025-06-12T09:03:58.698271Z",
     "start_time": "2025-06-12T09:01:42.739700Z"
    }
   },
   "cell_type": "code",
   "source": [
    "# Define target size (width x height)\n",
    "TARGET_SIZE = (800, 160)\n",
    "\n",
    "# Convert tall_images (list of tuples) to a set of paths\n",
    "excluded_train_paths = set(p for p, h in tall_images)\n",
    "\n",
    "# Save datasets\n",
    "save_clean_padded_dataset(train_data, \"../clean_padded/train\", TARGET_SIZE)\n",
    "save_clean_padded_dataset(valid_data, \"../clean_padded/val\", TARGET_SIZE)\n",
    "save_clean_padded_dataset(test_data, \"../clean_padded/test\", TARGET_SIZE, excluded_paths=excluded_train_paths)"
   ],
   "id": "78f617d89007ef7e",
   "outputs": [
    {
     "name": "stderr",
     "output_type": "stream",
     "text": [
      "Saving padded images to ./clean_padded/train: 100%|██████████| 75275/75275 [01:47<00:00, 702.27it/s]\n",
      "Saving padded images to ./clean_padded/val: 100%|██████████| 8370/8370 [00:14<00:00, 586.55it/s]\n",
      "Saving padded images to ./clean_padded/test: 100%|██████████| 10355/10355 [00:14<00:00, 714.59it/s]\n"
     ]
    }
   ],
   "execution_count": 56
  },
  {
   "metadata": {},
   "cell_type": "markdown",
   "source": "### Building the vocabulary for tokens in the LaTeX formulas",
   "id": "dc5df8728fc7a3e3"
  },
  {
   "metadata": {
    "ExecuteTime": {
     "end_time": "2025-06-13T07:25:06.471870Z",
     "start_time": "2025-06-13T07:25:06.469037Z"
    }
   },
   "cell_type": "code",
   "source": [
    "import pandas as pd\n",
    "from collections import Counter\n",
    "import pickle"
   ],
   "id": "18e8d285b1665d56",
   "outputs": [],
   "execution_count": 14
  },
  {
   "metadata": {
    "ExecuteTime": {
     "end_time": "2025-06-13T07:25:07.188088Z",
     "start_time": "2025-06-13T07:25:07.185045Z"
    }
   },
   "cell_type": "code",
   "source": [
    "# Special token IDs\n",
    "START_TOKEN = 0  # <sos>\n",
    "PAD_TOKEN = 1    # <pad>\n",
    "END_TOKEN = 2    # <eos>\n",
    "UNK_TOKEN = 3    # <unk>\n",
    "\n",
    "special_tokens = {\n",
    "    \"<s>\": START_TOKEN,\n",
    "    \"<pad>\": PAD_TOKEN,\n",
    "    \"</s>\": END_TOKEN,\n",
    "    \"<unk>\": UNK_TOKEN\n",
    "}"
   ],
   "id": "e820c82f70d04cc4",
   "outputs": [],
   "execution_count": 15
  },
  {
   "metadata": {
    "ExecuteTime": {
     "end_time": "2025-06-13T07:25:07.979479Z",
     "start_time": "2025-06-13T07:25:07.973338Z"
    }
   },
   "cell_type": "code",
   "source": [
    "class Vocab:\n",
    "    def __init__(self, min_freq=1):\n",
    "        self.sign2id = special_tokens.copy()\n",
    "        self.id2sign = {idx: token for token, idx in self.sign2id.items()}\n",
    "        self.length = len(self.sign2id)\n",
    "        self.min_freq = min_freq\n",
    "\n",
    "    def build(self, formulas):\n",
    "        counter = Counter()\n",
    "        for formula in formulas:\n",
    "            tokens = formula.split()\n",
    "            counter.update(tokens)\n",
    "\n",
    "        for token, freq in counter.items():\n",
    "            if freq >= self.min_freq and token not in self.sign2id:\n",
    "                self.sign2id[token] = self.length\n",
    "                self.id2sign[self.length] = token\n",
    "                self.length += 1\n",
    "\n",
    "    def __len__(self):\n",
    "        return self.length\n",
    "\n",
    "    def save(self, path):\n",
    "        with open(path, \"wb\") as f:\n",
    "            pickle.dump(self, f)\n",
    "\n",
    "    @staticmethod\n",
    "    def load(path):\n",
    "        with open(path, \"rb\") as f:\n",
    "            return pickle.load(f)"
   ],
   "id": "bbbd3971e8153a04",
   "outputs": [],
   "execution_count": 16
  },
  {
   "metadata": {
    "ExecuteTime": {
     "end_time": "2025-06-13T07:25:09.293321Z",
     "start_time": "2025-06-13T07:25:08.680343Z"
    }
   },
   "cell_type": "code",
   "source": [
    "import os\n",
    "\n",
    "dataset_names = [\"train\", \"validate\", \"test\"]\n",
    "\n",
    "all_formulas = []\n",
    "for name in dataset_names:\n",
    "    csv_path = os.path.join(DATA_DIR, f\"im2latex_{name}.csv\")\n",
    "    df = pd.read_csv(csv_path)\n",
    "    formulas = df[\"formula\"].astype(str).tolist()\n",
    "    all_formulas.extend(formulas)\n",
    "\n",
    "# Create the vocabulary\n",
    "vocab = Vocab(min_freq=2)\n",
    "vocab.build(all_formulas)\n",
    "print(f\"Vocab built with {len(vocab)} tokens.\")\n",
    "\n",
    "# Save the vocabulary\n",
    "vocab.save(\"vocab.pkl\")\n"
   ],
   "id": "7809e1a7ce1e2508",
   "outputs": [
    {
     "name": "stdout",
     "output_type": "stream",
     "text": [
      "Vocab built with 519 tokens.\n"
     ]
    }
   ],
   "execution_count": 17
  },
  {
   "metadata": {
    "ExecuteTime": {
     "end_time": "2025-06-13T07:25:10.372564Z",
     "start_time": "2025-06-13T07:25:10.368985Z"
    }
   },
   "cell_type": "code",
   "source": [
    "# usage example\n",
    "vocab = Vocab.load(\"../vocab.pkl\")\n",
    "print(vocab.sign2id[\"\\\\frac\"])\n",
    "print(vocab.id2sign[20])"
   ],
   "id": "87ea0091ff75e17b",
   "outputs": [
    {
     "name": "stdout",
     "output_type": "stream",
     "text": [
      "20\n",
      "\\frac\n"
     ]
    }
   ],
   "execution_count": 18
  },
  {
   "metadata": {
    "ExecuteTime": {
     "end_time": "2025-06-13T07:25:11.240898Z",
     "start_time": "2025-06-13T07:25:11.238094Z"
    }
   },
   "cell_type": "code",
   "source": [
    "def formula_to_ids(formula, vocab):\n",
    "    tokens = formula.split()\n",
    "    ids = [vocab.sign2id.get(token, UNK_TOKEN) for token in tokens]\n",
    "    return [START_TOKEN] + ids + [END_TOKEN]"
   ],
   "id": "1bca99345ad33081",
   "outputs": [],
   "execution_count": 19
  },
  {
   "metadata": {
    "ExecuteTime": {
     "end_time": "2025-06-13T07:25:12.026289Z",
     "start_time": "2025-06-13T07:25:12.020977Z"
    }
   },
   "cell_type": "code",
   "source": "formula_to_ids(\"\\widetilde \\gamma _ { \\mathrm { h o p f } } \\simeq \\sum _ { n > 0 } \\widetilde { G } _ { n } { \\frac { ( - a ) ^ { n } } { 2 ^ { 2 n - 1 } } }\", vocab)",
   "id": "408aacf8159838a",
   "outputs": [
    {
     "data": {
      "text/plain": [
       "[0,\n",
       " 4,\n",
       " 5,\n",
       " 6,\n",
       " 7,\n",
       " 8,\n",
       " 7,\n",
       " 9,\n",
       " 10,\n",
       " 11,\n",
       " 12,\n",
       " 13,\n",
       " 13,\n",
       " 14,\n",
       " 15,\n",
       " 6,\n",
       " 7,\n",
       " 16,\n",
       " 17,\n",
       " 18,\n",
       " 13,\n",
       " 4,\n",
       " 7,\n",
       " 19,\n",
       " 13,\n",
       " 6,\n",
       " 7,\n",
       " 16,\n",
       " 13,\n",
       " 7,\n",
       " 3,\n",
       " 7,\n",
       " 21,\n",
       " 22,\n",
       " 23,\n",
       " 24,\n",
       " 25,\n",
       " 7,\n",
       " 16,\n",
       " 13,\n",
       " 13,\n",
       " 7,\n",
       " 26,\n",
       " 25,\n",
       " 7,\n",
       " 26,\n",
       " 16,\n",
       " 22,\n",
       " 27,\n",
       " 13,\n",
       " 13,\n",
       " 13,\n",
       " 2]"
      ]
     },
     "execution_count": 20,
     "metadata": {},
     "output_type": "execute_result"
    }
   ],
   "execution_count": 20
  },
  {
   "metadata": {},
   "cell_type": "markdown",
   "source": "### Model",
   "id": "e68fa96a8f67ce13"
  },
  {
   "metadata": {
    "ExecuteTime": {
     "end_time": "2025-06-13T07:25:13.584262Z",
     "start_time": "2025-06-13T07:25:13.580734Z"
    }
   },
   "cell_type": "code",
   "source": [
    "import torch\n",
    "print(torch.backends.mps.is_available())\n",
    "print(torch.backends.mps.is_built())\n",
    "if torch.backends.mps.is_available():\n",
    "    device = torch.device(\"mps\")\n",
    "    print(f\"Using device: {device}\")\n",
    "else:\n",
    "    device = torch.device(\"cpu\")\n",
    "    print(\"MPS not available, falling back to CPU.\")"
   ],
   "id": "c6f11bbdd7df26a5",
   "outputs": [
    {
     "name": "stdout",
     "output_type": "stream",
     "text": [
      "True\n",
      "True\n",
      "Using device: mps\n"
     ]
    }
   ],
   "execution_count": 21
  },
  {
   "metadata": {
    "ExecuteTime": {
     "end_time": "2025-06-13T07:25:14.171600Z",
     "start_time": "2025-06-13T07:25:14.168570Z"
    }
   },
   "cell_type": "code",
   "source": [
    "import os\n",
    "from torch.utils.data import Dataset, DataLoader\n",
    "from PIL import Image\n",
    "from torchvision import transforms\n",
    "import torch\n",
    "import torch.nn as nn\n",
    "import torchvision.models as models"
   ],
   "id": "1f8bd45bfd0e1d6f",
   "outputs": [],
   "execution_count": 22
  },
  {
   "metadata": {
    "ExecuteTime": {
     "end_time": "2025-06-13T07:25:14.707174Z",
     "start_time": "2025-06-13T07:25:14.703880Z"
    }
   },
   "cell_type": "code",
   "source": [
    "device = torch.device(\"cuda\" if torch.cuda.is_available() else \"cpu\")\n",
    "print(device)"
   ],
   "id": "776c5dbb66ecfb2",
   "outputs": [
    {
     "name": "stdout",
     "output_type": "stream",
     "text": [
      "cpu\n"
     ]
    }
   ],
   "execution_count": 23
  },
  {
   "metadata": {
    "ExecuteTime": {
     "end_time": "2025-06-13T07:25:15.333277Z",
     "start_time": "2025-06-13T07:25:15.326795Z"
    }
   },
   "cell_type": "code",
   "source": [
    "class ImageToLatexDataset(Dataset):\n",
    "    def __init__(self, csv_file, images_dir, vocab, transform=None, max_len=150):\n",
    "        import pandas as pd\n",
    "        self.data = pd.read_csv(csv_file)\n",
    "        self.images_dir = images_dir\n",
    "        self.vocab = vocab\n",
    "        self.transform = transform\n",
    "        self.max_len = max_len\n",
    "\n",
    "    def __len__(self):\n",
    "        return len(self.data)\n",
    "\n",
    "    def __getitem__(self, idx):\n",
    "        row = self.data.iloc[idx]\n",
    "        formula = row['formula']\n",
    "        image_path = os.path.join(self.images_dir, row['image'])\n",
    "\n",
    "        # Load and transform image\n",
    "        image = Image.open(image_path).convert('L')  # grayscale\n",
    "        if self.transform:\n",
    "            image = self.transform(image)\n",
    "\n",
    "        # Tokenize formula\n",
    "        tokens = formula.strip().split()\n",
    "        token_ids = [self.vocab.sign2id['<s>']] + [self.vocab.sign2id.get(tok, self.vocab.sign2id['<unk>']) for tok in tokens] + [self.vocab.sign2id['</s>']]\n",
    "\n",
    "        # Padding\n",
    "        if len(token_ids) < self.max_len:\n",
    "            token_ids += [self.vocab.sign2id['<pad>']] * (self.max_len - len(token_ids))\n",
    "        else:\n",
    "            token_ids = token_ids[:self.max_len]\n",
    "\n",
    "        input_ids = torch.tensor(token_ids[:-1])  # input to decoder\n",
    "        target_ids = torch.tensor(token_ids[1:])  # target output\n",
    "\n",
    "        return image, input_ids, target_ids"
   ],
   "id": "941488ccd111fcb0",
   "outputs": [],
   "execution_count": 24
  },
  {
   "metadata": {
    "ExecuteTime": {
     "end_time": "2025-06-13T07:25:15.891142Z",
     "start_time": "2025-06-13T07:25:15.888314Z"
    }
   },
   "cell_type": "code",
   "source": [
    "# Define image transform\n",
    "image_transform = transforms.Compose([\n",
    "    transforms.Resize((160, 800)),  # Your original dimensions\n",
    "    transforms.ToTensor(),\n",
    "    transforms.Normalize((0.5,), (0.5,))\n",
    "])"
   ],
   "id": "a36cbecc8a6b67b6",
   "outputs": [],
   "execution_count": 25
  },
  {
   "metadata": {
    "ExecuteTime": {
     "end_time": "2025-06-13T07:25:16.883701Z",
     "start_time": "2025-06-13T07:25:16.473208Z"
    }
   },
   "cell_type": "code",
   "source": [
    "csv_path = os.path.join(DATA_DIR, 'im2latex_train.csv')\n",
    "df = pd.read_csv(csv_path)\n",
    "\n",
    "# aggiunge _resized prima di .png in colonna 'image'\n",
    "df['image'] = df['image'].apply(lambda x: x.replace('.png', '_resized.png'))\n",
    "\n",
    "# salva su un nuovo csv (o sovrascrivi)\n",
    "fixed_csv_path = os.path.join(DATA_DIR, 'im2latex_train_resized.csv')\n",
    "df.to_csv(fixed_csv_path, index=False)"
   ],
   "id": "fcde8e687a0af7f1",
   "outputs": [],
   "execution_count": 26
  },
  {
   "metadata": {
    "ExecuteTime": {
     "end_time": "2025-06-13T07:25:17.606876Z",
     "start_time": "2025-06-13T07:25:17.458936Z"
    }
   },
   "cell_type": "code",
   "source": [
    "dataset = ImageToLatexDataset(csv_file=fixed_csv_path,\n",
    "                              images_dir='../clean_padded/train',\n",
    "                              vocab=vocab,\n",
    "                              transform=image_transform)\n",
    "\n",
    "dataloader = DataLoader(dataset, batch_size=16, shuffle=True, num_workers=0, pin_memory=False)"
   ],
   "id": "6e814a8f86997a4d",
   "outputs": [],
   "execution_count": 27
  },
  {
   "metadata": {
    "ExecuteTime": {
     "end_time": "2025-06-13T07:25:18.686548Z",
     "start_time": "2025-06-13T07:25:18.681775Z"
    }
   },
   "cell_type": "code",
   "source": [
    "class EncoderCNN(nn.Module):\n",
    "    def __init__(self, output_dim=512):\n",
    "        super(EncoderCNN, self).__init__()\n",
    "        base_model = models.resnet18(pretrained=False)\n",
    "        base_model.conv1 = nn.Conv2d(1, 64, kernel_size=7, stride=2, padding=3, bias=False)  # from RGB to grayscale\n",
    "        modules = list(base_model.children())[:-2]  # remove avgpool + fc\n",
    "        self.cnn = nn.Sequential(*modules)\n",
    "        self.output_conv = nn.Conv2d(512, output_dim, kernel_size=1)\n",
    "\n",
    "    def forward(self, images):\n",
    "        # images: (B, 1, 160, 800)\n",
    "        features = self.cnn(images)  # (B, 512, H', W')\n",
    "        features = self.output_conv(features)  # (B, output_dim, H', W')\n",
    "        B, C, H, W = features.shape\n",
    "        features = features.permute(0, 2, 3, 1)  # (B, H, W, C)\n",
    "        features = features.reshape(B, H * W, C)  # (B, seq_len, C)\n",
    "        return features  # encoder output sequence"
   ],
   "id": "fa434cf6462ccd90",
   "outputs": [],
   "execution_count": 28
  },
  {
   "metadata": {
    "ExecuteTime": {
     "end_time": "2025-06-13T07:25:19.646859Z",
     "start_time": "2025-06-13T07:25:19.641406Z"
    }
   },
   "cell_type": "code",
   "source": [
    "class DecoderLSTM(nn.Module):\n",
    "    def __init__(self, vocab_size, embed_dim=256, encoder_dim=512, hidden_dim=512, num_layers=1):\n",
    "        super(DecoderLSTM, self).__init__()\n",
    "        self.embedding = nn.Embedding(vocab_size, embed_dim, padding_idx=1)\n",
    "        self.lstm = nn.LSTM(embed_dim + encoder_dim, hidden_dim, num_layers, batch_first=True)\n",
    "        self.fc_out = nn.Linear(hidden_dim, vocab_size)\n",
    "\n",
    "    def forward(self, encoder_out, input_ids):\n",
    "        \"\"\"\n",
    "        encoder_out: (B, seq_len_enc, encoder_dim)\n",
    "        input_ids: (B, seq_len_dec)\n",
    "        \"\"\"\n",
    "        B, seq_len_enc, encoder_dim = encoder_out.shape\n",
    "        _, seq_len_dec = input_ids.shape\n",
    "\n",
    "        embedded = self.embedding(input_ids)  # (B, seq_len_dec, embed_dim)\n",
    "\n",
    "        # Media spaziale dei feature per ciascuna immagine\n",
    "        context = encoder_out.mean(dim=1)  # (B, encoder_dim)\n",
    "        context = context.unsqueeze(1).repeat(1, seq_len_dec, 1)  # (B, seq_len_dec, encoder_dim)\n",
    "\n",
    "        lstm_input = torch.cat([embedded, context], dim=2)  # (B, seq_len_dec, embed+encoder_dim)\n",
    "        outputs, _ = self.lstm(lstm_input)  # (B, seq_len_dec, hidden_dim)\n",
    "        logits = self.fc_out(outputs)  # (B, seq_len_dec, vocab_size)\n",
    "        return logits"
   ],
   "id": "4933f5e457c0dd42",
   "outputs": [],
   "execution_count": 29
  },
  {
   "metadata": {
    "ExecuteTime": {
     "end_time": "2025-06-13T07:25:20.370059Z",
     "start_time": "2025-06-13T07:25:20.366452Z"
    }
   },
   "cell_type": "code",
   "source": [
    "class Im2LatexModel(nn.Module):\n",
    "    def __init__(self, vocab_size):\n",
    "        super(Im2LatexModel, self).__init__()\n",
    "        self.encoder = EncoderCNN(output_dim=512)\n",
    "        self.decoder = DecoderLSTM(vocab_size)\n",
    "\n",
    "    def forward(self, images, input_ids):\n",
    "        encoder_out = self.encoder(images)\n",
    "        logits = self.decoder(encoder_out, input_ids)\n",
    "        return logits  # (B, seq_len, vocab_size)"
   ],
   "id": "25d9c3acd40251ed",
   "outputs": [],
   "execution_count": 30
  },
  {
   "metadata": {
    "ExecuteTime": {
     "end_time": "2025-06-13T07:25:21.084466Z",
     "start_time": "2025-06-13T07:25:21.081360Z"
    }
   },
   "cell_type": "code",
   "source": "len(dataloader)",
   "id": "300afc4a1f6867d7",
   "outputs": [
    {
     "data": {
      "text/plain": [
       "4705"
      ]
     },
     "execution_count": 31,
     "metadata": {},
     "output_type": "execute_result"
    }
   ],
   "execution_count": 31
  },
  {
   "metadata": {
    "ExecuteTime": {
     "end_time": "2025-06-13T07:25:23.378271Z",
     "start_time": "2025-06-13T07:25:21.808517Z"
    }
   },
   "cell_type": "code",
   "source": [
    "model = Im2LatexModel(vocab_size=len(vocab)).to(device)\n",
    "\n",
    "for batch in dataloader:\n",
    "    images, input_ids, target_ids = batch\n",
    "    images, input_ids, target_ids = images.to(device), input_ids.to(device), target_ids.to(device)\n",
    "    logits = model(images, input_ids)  # (B, seq_len, vocab_size)\n",
    "    break\n"
   ],
   "id": "4a8c6f1350965787",
   "outputs": [
    {
     "name": "stderr",
     "output_type": "stream",
     "text": [
      "/Users/tommaso/Desktop/miei file/ML/project/code/venv/lib/python3.9/site-packages/torchvision/models/_utils.py:208: UserWarning: The parameter 'pretrained' is deprecated since 0.13 and may be removed in the future, please use 'weights' instead.\n",
      "  warnings.warn(\n",
      "/Users/tommaso/Desktop/miei file/ML/project/code/venv/lib/python3.9/site-packages/torchvision/models/_utils.py:223: UserWarning: Arguments other than a weight enum or `None` for 'weights' are deprecated since 0.13 and may be removed in the future. The current behavior is equivalent to passing `weights=None`.\n",
      "  warnings.warn(msg)\n"
     ]
    }
   ],
   "execution_count": 32
  },
  {
   "metadata": {
    "ExecuteTime": {
     "end_time": "2025-06-13T07:25:24.232578Z",
     "start_time": "2025-06-13T07:25:24.229068Z"
    }
   },
   "cell_type": "code",
   "source": [
    "criterion = nn.CrossEntropyLoss(ignore_index=PAD_TOKEN)\n",
    "optimizer = torch.optim.Adam(model.parameters(), lr=1e-3)"
   ],
   "id": "3133a7626e4ad2c5",
   "outputs": [],
   "execution_count": 33
  },
  {
   "metadata": {
    "ExecuteTime": {
     "end_time": "2025-06-13T07:26:51.893804Z",
     "start_time": "2025-06-13T07:26:50.872254Z"
    }
   },
   "cell_type": "code",
   "source": [
    "num_epochs = 5\n",
    "model.train()\n",
    "for epoch in range(num_epochs):\n",
    "    total_loss = 0\n",
    "    # Wrap the dataloader with tqdm\n",
    "    # You can also add a description to the progress bar for better clarity\n",
    "    for images, input_ids, target_ids in tqdm(dataloader, desc=f\"Epoch {epoch+1}/{num_epochs}\"):\n",
    "        images, input_ids, target_ids = images.to(device), input_ids.to(device), target_ids.to(device)\n",
    "\n",
    "        optimizer.zero_grad()\n",
    "        logits = model(images, input_ids)  # (B, seq_len, vocab_size)\n",
    "\n",
    "        # CrossEntropyLoss expects (B * seq_len, vocab_size) and (B * seq_len)\n",
    "        loss = criterion(logits.view(-1, logits.size(-1)), target_ids.view(-1))\n",
    "\n",
    "        loss.backward()\n",
    "        optimizer.step()\n",
    "\n",
    "        total_loss += loss.item()\n",
    "\n",
    "    print(f\"Epoch {epoch+1}/{num_epochs} - Loss: {total_loss/len(dataloader):.4f}\")"
   ],
   "id": "245294c89a4a6d23",
   "outputs": [
    {
     "data": {
      "text/plain": [
       "Epoch 1/5:   0%|          | 0/4705 [00:00<?, ?it/s]"
      ],
      "application/vnd.jupyter.widget-view+json": {
       "version_major": 2,
       "version_minor": 0,
       "model_id": "e25a347cd145467e9b8253707882f43b"
      }
     },
     "metadata": {},
     "output_type": "display_data"
    },
    {
     "ename": "KeyboardInterrupt",
     "evalue": "",
     "output_type": "error",
     "traceback": [
      "\u001B[0;31m---------------------------------------------------------------------------\u001B[0m",
      "\u001B[0;31mKeyboardInterrupt\u001B[0m                         Traceback (most recent call last)",
      "Cell \u001B[0;32mIn[35], line 11\u001B[0m\n\u001B[1;32m      8\u001B[0m images, input_ids, target_ids \u001B[38;5;241m=\u001B[39m images\u001B[38;5;241m.\u001B[39mto(device), input_ids\u001B[38;5;241m.\u001B[39mto(device), target_ids\u001B[38;5;241m.\u001B[39mto(device)\n\u001B[1;32m     10\u001B[0m optimizer\u001B[38;5;241m.\u001B[39mzero_grad()\n\u001B[0;32m---> 11\u001B[0m logits \u001B[38;5;241m=\u001B[39m \u001B[43mmodel\u001B[49m\u001B[43m(\u001B[49m\u001B[43mimages\u001B[49m\u001B[43m,\u001B[49m\u001B[43m \u001B[49m\u001B[43minput_ids\u001B[49m\u001B[43m)\u001B[49m  \u001B[38;5;66;03m# (B, seq_len, vocab_size)\u001B[39;00m\n\u001B[1;32m     13\u001B[0m \u001B[38;5;66;03m# CrossEntropyLoss expects (B * seq_len, vocab_size) and (B * seq_len)\u001B[39;00m\n\u001B[1;32m     14\u001B[0m loss \u001B[38;5;241m=\u001B[39m criterion(logits\u001B[38;5;241m.\u001B[39mview(\u001B[38;5;241m-\u001B[39m\u001B[38;5;241m1\u001B[39m, logits\u001B[38;5;241m.\u001B[39msize(\u001B[38;5;241m-\u001B[39m\u001B[38;5;241m1\u001B[39m)), target_ids\u001B[38;5;241m.\u001B[39mview(\u001B[38;5;241m-\u001B[39m\u001B[38;5;241m1\u001B[39m))\n",
      "File \u001B[0;32m~/Desktop/miei file/ML/project/code/venv/lib/python3.9/site-packages/torch/nn/modules/module.py:1767\u001B[0m, in \u001B[0;36mModule._wrapped_call_impl\u001B[0;34m(self, *args, **kwargs)\u001B[0m\n\u001B[1;32m   1765\u001B[0m     \u001B[38;5;28;01mreturn\u001B[39;00m \u001B[38;5;28mself\u001B[39m\u001B[38;5;241m.\u001B[39m_compiled_call_impl(\u001B[38;5;241m*\u001B[39margs, \u001B[38;5;241m*\u001B[39m\u001B[38;5;241m*\u001B[39mkwargs)  \u001B[38;5;66;03m# type: ignore[misc]\u001B[39;00m\n\u001B[1;32m   1766\u001B[0m \u001B[38;5;28;01melse\u001B[39;00m:\n\u001B[0;32m-> 1767\u001B[0m     \u001B[38;5;28;01mreturn\u001B[39;00m \u001B[38;5;28;43mself\u001B[39;49m\u001B[38;5;241;43m.\u001B[39;49m\u001B[43m_call_impl\u001B[49m\u001B[43m(\u001B[49m\u001B[38;5;241;43m*\u001B[39;49m\u001B[43margs\u001B[49m\u001B[43m,\u001B[49m\u001B[43m \u001B[49m\u001B[38;5;241;43m*\u001B[39;49m\u001B[38;5;241;43m*\u001B[39;49m\u001B[43mkwargs\u001B[49m\u001B[43m)\u001B[49m\n",
      "File \u001B[0;32m~/Desktop/miei file/ML/project/code/venv/lib/python3.9/site-packages/torch/nn/modules/module.py:1778\u001B[0m, in \u001B[0;36mModule._call_impl\u001B[0;34m(self, *args, **kwargs)\u001B[0m\n\u001B[1;32m   1773\u001B[0m \u001B[38;5;66;03m# If we don't have any hooks, we want to skip the rest of the logic in\u001B[39;00m\n\u001B[1;32m   1774\u001B[0m \u001B[38;5;66;03m# this function, and just call forward.\u001B[39;00m\n\u001B[1;32m   1775\u001B[0m \u001B[38;5;28;01mif\u001B[39;00m \u001B[38;5;129;01mnot\u001B[39;00m (\u001B[38;5;28mself\u001B[39m\u001B[38;5;241m.\u001B[39m_backward_hooks \u001B[38;5;129;01mor\u001B[39;00m \u001B[38;5;28mself\u001B[39m\u001B[38;5;241m.\u001B[39m_backward_pre_hooks \u001B[38;5;129;01mor\u001B[39;00m \u001B[38;5;28mself\u001B[39m\u001B[38;5;241m.\u001B[39m_forward_hooks \u001B[38;5;129;01mor\u001B[39;00m \u001B[38;5;28mself\u001B[39m\u001B[38;5;241m.\u001B[39m_forward_pre_hooks\n\u001B[1;32m   1776\u001B[0m         \u001B[38;5;129;01mor\u001B[39;00m _global_backward_pre_hooks \u001B[38;5;129;01mor\u001B[39;00m _global_backward_hooks\n\u001B[1;32m   1777\u001B[0m         \u001B[38;5;129;01mor\u001B[39;00m _global_forward_hooks \u001B[38;5;129;01mor\u001B[39;00m _global_forward_pre_hooks):\n\u001B[0;32m-> 1778\u001B[0m     \u001B[38;5;28;01mreturn\u001B[39;00m \u001B[43mforward_call\u001B[49m\u001B[43m(\u001B[49m\u001B[38;5;241;43m*\u001B[39;49m\u001B[43margs\u001B[49m\u001B[43m,\u001B[49m\u001B[43m \u001B[49m\u001B[38;5;241;43m*\u001B[39;49m\u001B[38;5;241;43m*\u001B[39;49m\u001B[43mkwargs\u001B[49m\u001B[43m)\u001B[49m\n\u001B[1;32m   1780\u001B[0m result \u001B[38;5;241m=\u001B[39m \u001B[38;5;28;01mNone\u001B[39;00m\n\u001B[1;32m   1781\u001B[0m called_always_called_hooks \u001B[38;5;241m=\u001B[39m \u001B[38;5;28mset\u001B[39m()\n",
      "Cell \u001B[0;32mIn[30], line 8\u001B[0m, in \u001B[0;36mIm2LatexModel.forward\u001B[0;34m(self, images, input_ids)\u001B[0m\n\u001B[1;32m      7\u001B[0m \u001B[38;5;28;01mdef\u001B[39;00m\u001B[38;5;250m \u001B[39m\u001B[38;5;21mforward\u001B[39m(\u001B[38;5;28mself\u001B[39m, images, input_ids):\n\u001B[0;32m----> 8\u001B[0m     encoder_out \u001B[38;5;241m=\u001B[39m \u001B[38;5;28;43mself\u001B[39;49m\u001B[38;5;241;43m.\u001B[39;49m\u001B[43mencoder\u001B[49m\u001B[43m(\u001B[49m\u001B[43mimages\u001B[49m\u001B[43m)\u001B[49m\n\u001B[1;32m      9\u001B[0m     logits \u001B[38;5;241m=\u001B[39m \u001B[38;5;28mself\u001B[39m\u001B[38;5;241m.\u001B[39mdecoder(encoder_out, input_ids)\n\u001B[1;32m     10\u001B[0m     \u001B[38;5;28;01mreturn\u001B[39;00m logits\n",
      "File \u001B[0;32m~/Desktop/miei file/ML/project/code/venv/lib/python3.9/site-packages/torch/nn/modules/module.py:1767\u001B[0m, in \u001B[0;36mModule._wrapped_call_impl\u001B[0;34m(self, *args, **kwargs)\u001B[0m\n\u001B[1;32m   1765\u001B[0m     \u001B[38;5;28;01mreturn\u001B[39;00m \u001B[38;5;28mself\u001B[39m\u001B[38;5;241m.\u001B[39m_compiled_call_impl(\u001B[38;5;241m*\u001B[39margs, \u001B[38;5;241m*\u001B[39m\u001B[38;5;241m*\u001B[39mkwargs)  \u001B[38;5;66;03m# type: ignore[misc]\u001B[39;00m\n\u001B[1;32m   1766\u001B[0m \u001B[38;5;28;01melse\u001B[39;00m:\n\u001B[0;32m-> 1767\u001B[0m     \u001B[38;5;28;01mreturn\u001B[39;00m \u001B[38;5;28;43mself\u001B[39;49m\u001B[38;5;241;43m.\u001B[39;49m\u001B[43m_call_impl\u001B[49m\u001B[43m(\u001B[49m\u001B[38;5;241;43m*\u001B[39;49m\u001B[43margs\u001B[49m\u001B[43m,\u001B[49m\u001B[43m \u001B[49m\u001B[38;5;241;43m*\u001B[39;49m\u001B[38;5;241;43m*\u001B[39;49m\u001B[43mkwargs\u001B[49m\u001B[43m)\u001B[49m\n",
      "File \u001B[0;32m~/Desktop/miei file/ML/project/code/venv/lib/python3.9/site-packages/torch/nn/modules/module.py:1778\u001B[0m, in \u001B[0;36mModule._call_impl\u001B[0;34m(self, *args, **kwargs)\u001B[0m\n\u001B[1;32m   1773\u001B[0m \u001B[38;5;66;03m# If we don't have any hooks, we want to skip the rest of the logic in\u001B[39;00m\n\u001B[1;32m   1774\u001B[0m \u001B[38;5;66;03m# this function, and just call forward.\u001B[39;00m\n\u001B[1;32m   1775\u001B[0m \u001B[38;5;28;01mif\u001B[39;00m \u001B[38;5;129;01mnot\u001B[39;00m (\u001B[38;5;28mself\u001B[39m\u001B[38;5;241m.\u001B[39m_backward_hooks \u001B[38;5;129;01mor\u001B[39;00m \u001B[38;5;28mself\u001B[39m\u001B[38;5;241m.\u001B[39m_backward_pre_hooks \u001B[38;5;129;01mor\u001B[39;00m \u001B[38;5;28mself\u001B[39m\u001B[38;5;241m.\u001B[39m_forward_hooks \u001B[38;5;129;01mor\u001B[39;00m \u001B[38;5;28mself\u001B[39m\u001B[38;5;241m.\u001B[39m_forward_pre_hooks\n\u001B[1;32m   1776\u001B[0m         \u001B[38;5;129;01mor\u001B[39;00m _global_backward_pre_hooks \u001B[38;5;129;01mor\u001B[39;00m _global_backward_hooks\n\u001B[1;32m   1777\u001B[0m         \u001B[38;5;129;01mor\u001B[39;00m _global_forward_hooks \u001B[38;5;129;01mor\u001B[39;00m _global_forward_pre_hooks):\n\u001B[0;32m-> 1778\u001B[0m     \u001B[38;5;28;01mreturn\u001B[39;00m \u001B[43mforward_call\u001B[49m\u001B[43m(\u001B[49m\u001B[38;5;241;43m*\u001B[39;49m\u001B[43margs\u001B[49m\u001B[43m,\u001B[49m\u001B[43m \u001B[49m\u001B[38;5;241;43m*\u001B[39;49m\u001B[38;5;241;43m*\u001B[39;49m\u001B[43mkwargs\u001B[49m\u001B[43m)\u001B[49m\n\u001B[1;32m   1780\u001B[0m result \u001B[38;5;241m=\u001B[39m \u001B[38;5;28;01mNone\u001B[39;00m\n\u001B[1;32m   1781\u001B[0m called_always_called_hooks \u001B[38;5;241m=\u001B[39m \u001B[38;5;28mset\u001B[39m()\n",
      "Cell \u001B[0;32mIn[28], line 12\u001B[0m, in \u001B[0;36mEncoderCNN.forward\u001B[0;34m(self, images)\u001B[0m\n\u001B[1;32m     10\u001B[0m \u001B[38;5;28;01mdef\u001B[39;00m\u001B[38;5;250m \u001B[39m\u001B[38;5;21mforward\u001B[39m(\u001B[38;5;28mself\u001B[39m, images):\n\u001B[1;32m     11\u001B[0m     \u001B[38;5;66;03m# images: (B, 1, 160, 800)\u001B[39;00m\n\u001B[0;32m---> 12\u001B[0m     features \u001B[38;5;241m=\u001B[39m \u001B[38;5;28;43mself\u001B[39;49m\u001B[38;5;241;43m.\u001B[39;49m\u001B[43mcnn\u001B[49m\u001B[43m(\u001B[49m\u001B[43mimages\u001B[49m\u001B[43m)\u001B[49m  \u001B[38;5;66;03m# (B, 512, H', W')\u001B[39;00m\n\u001B[1;32m     13\u001B[0m     features \u001B[38;5;241m=\u001B[39m \u001B[38;5;28mself\u001B[39m\u001B[38;5;241m.\u001B[39moutput_conv(features)  \u001B[38;5;66;03m# (B, output_dim, H', W')\u001B[39;00m\n\u001B[1;32m     14\u001B[0m     B, C, H, W \u001B[38;5;241m=\u001B[39m features\u001B[38;5;241m.\u001B[39mshape\n",
      "File \u001B[0;32m~/Desktop/miei file/ML/project/code/venv/lib/python3.9/site-packages/torch/nn/modules/module.py:1767\u001B[0m, in \u001B[0;36mModule._wrapped_call_impl\u001B[0;34m(self, *args, **kwargs)\u001B[0m\n\u001B[1;32m   1765\u001B[0m     \u001B[38;5;28;01mreturn\u001B[39;00m \u001B[38;5;28mself\u001B[39m\u001B[38;5;241m.\u001B[39m_compiled_call_impl(\u001B[38;5;241m*\u001B[39margs, \u001B[38;5;241m*\u001B[39m\u001B[38;5;241m*\u001B[39mkwargs)  \u001B[38;5;66;03m# type: ignore[misc]\u001B[39;00m\n\u001B[1;32m   1766\u001B[0m \u001B[38;5;28;01melse\u001B[39;00m:\n\u001B[0;32m-> 1767\u001B[0m     \u001B[38;5;28;01mreturn\u001B[39;00m \u001B[38;5;28;43mself\u001B[39;49m\u001B[38;5;241;43m.\u001B[39;49m\u001B[43m_call_impl\u001B[49m\u001B[43m(\u001B[49m\u001B[38;5;241;43m*\u001B[39;49m\u001B[43margs\u001B[49m\u001B[43m,\u001B[49m\u001B[43m \u001B[49m\u001B[38;5;241;43m*\u001B[39;49m\u001B[38;5;241;43m*\u001B[39;49m\u001B[43mkwargs\u001B[49m\u001B[43m)\u001B[49m\n",
      "File \u001B[0;32m~/Desktop/miei file/ML/project/code/venv/lib/python3.9/site-packages/torch/nn/modules/module.py:1778\u001B[0m, in \u001B[0;36mModule._call_impl\u001B[0;34m(self, *args, **kwargs)\u001B[0m\n\u001B[1;32m   1773\u001B[0m \u001B[38;5;66;03m# If we don't have any hooks, we want to skip the rest of the logic in\u001B[39;00m\n\u001B[1;32m   1774\u001B[0m \u001B[38;5;66;03m# this function, and just call forward.\u001B[39;00m\n\u001B[1;32m   1775\u001B[0m \u001B[38;5;28;01mif\u001B[39;00m \u001B[38;5;129;01mnot\u001B[39;00m (\u001B[38;5;28mself\u001B[39m\u001B[38;5;241m.\u001B[39m_backward_hooks \u001B[38;5;129;01mor\u001B[39;00m \u001B[38;5;28mself\u001B[39m\u001B[38;5;241m.\u001B[39m_backward_pre_hooks \u001B[38;5;129;01mor\u001B[39;00m \u001B[38;5;28mself\u001B[39m\u001B[38;5;241m.\u001B[39m_forward_hooks \u001B[38;5;129;01mor\u001B[39;00m \u001B[38;5;28mself\u001B[39m\u001B[38;5;241m.\u001B[39m_forward_pre_hooks\n\u001B[1;32m   1776\u001B[0m         \u001B[38;5;129;01mor\u001B[39;00m _global_backward_pre_hooks \u001B[38;5;129;01mor\u001B[39;00m _global_backward_hooks\n\u001B[1;32m   1777\u001B[0m         \u001B[38;5;129;01mor\u001B[39;00m _global_forward_hooks \u001B[38;5;129;01mor\u001B[39;00m _global_forward_pre_hooks):\n\u001B[0;32m-> 1778\u001B[0m     \u001B[38;5;28;01mreturn\u001B[39;00m \u001B[43mforward_call\u001B[49m\u001B[43m(\u001B[49m\u001B[38;5;241;43m*\u001B[39;49m\u001B[43margs\u001B[49m\u001B[43m,\u001B[49m\u001B[43m \u001B[49m\u001B[38;5;241;43m*\u001B[39;49m\u001B[38;5;241;43m*\u001B[39;49m\u001B[43mkwargs\u001B[49m\u001B[43m)\u001B[49m\n\u001B[1;32m   1780\u001B[0m result \u001B[38;5;241m=\u001B[39m \u001B[38;5;28;01mNone\u001B[39;00m\n\u001B[1;32m   1781\u001B[0m called_always_called_hooks \u001B[38;5;241m=\u001B[39m \u001B[38;5;28mset\u001B[39m()\n",
      "File \u001B[0;32m~/Desktop/miei file/ML/project/code/venv/lib/python3.9/site-packages/torch/nn/modules/container.py:245\u001B[0m, in \u001B[0;36mSequential.forward\u001B[0;34m(self, input)\u001B[0m\n\u001B[1;32m    243\u001B[0m \u001B[38;5;28;01mdef\u001B[39;00m\u001B[38;5;250m \u001B[39m\u001B[38;5;21mforward\u001B[39m(\u001B[38;5;28mself\u001B[39m, \u001B[38;5;28minput\u001B[39m):\n\u001B[1;32m    244\u001B[0m     \u001B[38;5;28;01mfor\u001B[39;00m module \u001B[38;5;129;01min\u001B[39;00m \u001B[38;5;28mself\u001B[39m:\n\u001B[0;32m--> 245\u001B[0m         \u001B[38;5;28minput\u001B[39m \u001B[38;5;241m=\u001B[39m \u001B[43mmodule\u001B[49m\u001B[43m(\u001B[49m\u001B[38;5;28;43minput\u001B[39;49m\u001B[43m)\u001B[49m\n\u001B[1;32m    246\u001B[0m     \u001B[38;5;28;01mreturn\u001B[39;00m \u001B[38;5;28minput\u001B[39m\n",
      "File \u001B[0;32m~/Desktop/miei file/ML/project/code/venv/lib/python3.9/site-packages/torch/nn/modules/module.py:1767\u001B[0m, in \u001B[0;36mModule._wrapped_call_impl\u001B[0;34m(self, *args, **kwargs)\u001B[0m\n\u001B[1;32m   1765\u001B[0m     \u001B[38;5;28;01mreturn\u001B[39;00m \u001B[38;5;28mself\u001B[39m\u001B[38;5;241m.\u001B[39m_compiled_call_impl(\u001B[38;5;241m*\u001B[39margs, \u001B[38;5;241m*\u001B[39m\u001B[38;5;241m*\u001B[39mkwargs)  \u001B[38;5;66;03m# type: ignore[misc]\u001B[39;00m\n\u001B[1;32m   1766\u001B[0m \u001B[38;5;28;01melse\u001B[39;00m:\n\u001B[0;32m-> 1767\u001B[0m     \u001B[38;5;28;01mreturn\u001B[39;00m \u001B[38;5;28;43mself\u001B[39;49m\u001B[38;5;241;43m.\u001B[39;49m\u001B[43m_call_impl\u001B[49m\u001B[43m(\u001B[49m\u001B[38;5;241;43m*\u001B[39;49m\u001B[43margs\u001B[49m\u001B[43m,\u001B[49m\u001B[43m \u001B[49m\u001B[38;5;241;43m*\u001B[39;49m\u001B[38;5;241;43m*\u001B[39;49m\u001B[43mkwargs\u001B[49m\u001B[43m)\u001B[49m\n",
      "File \u001B[0;32m~/Desktop/miei file/ML/project/code/venv/lib/python3.9/site-packages/torch/nn/modules/module.py:1778\u001B[0m, in \u001B[0;36mModule._call_impl\u001B[0;34m(self, *args, **kwargs)\u001B[0m\n\u001B[1;32m   1773\u001B[0m \u001B[38;5;66;03m# If we don't have any hooks, we want to skip the rest of the logic in\u001B[39;00m\n\u001B[1;32m   1774\u001B[0m \u001B[38;5;66;03m# this function, and just call forward.\u001B[39;00m\n\u001B[1;32m   1775\u001B[0m \u001B[38;5;28;01mif\u001B[39;00m \u001B[38;5;129;01mnot\u001B[39;00m (\u001B[38;5;28mself\u001B[39m\u001B[38;5;241m.\u001B[39m_backward_hooks \u001B[38;5;129;01mor\u001B[39;00m \u001B[38;5;28mself\u001B[39m\u001B[38;5;241m.\u001B[39m_backward_pre_hooks \u001B[38;5;129;01mor\u001B[39;00m \u001B[38;5;28mself\u001B[39m\u001B[38;5;241m.\u001B[39m_forward_hooks \u001B[38;5;129;01mor\u001B[39;00m \u001B[38;5;28mself\u001B[39m\u001B[38;5;241m.\u001B[39m_forward_pre_hooks\n\u001B[1;32m   1776\u001B[0m         \u001B[38;5;129;01mor\u001B[39;00m _global_backward_pre_hooks \u001B[38;5;129;01mor\u001B[39;00m _global_backward_hooks\n\u001B[1;32m   1777\u001B[0m         \u001B[38;5;129;01mor\u001B[39;00m _global_forward_hooks \u001B[38;5;129;01mor\u001B[39;00m _global_forward_pre_hooks):\n\u001B[0;32m-> 1778\u001B[0m     \u001B[38;5;28;01mreturn\u001B[39;00m \u001B[43mforward_call\u001B[49m\u001B[43m(\u001B[49m\u001B[38;5;241;43m*\u001B[39;49m\u001B[43margs\u001B[49m\u001B[43m,\u001B[49m\u001B[43m \u001B[49m\u001B[38;5;241;43m*\u001B[39;49m\u001B[38;5;241;43m*\u001B[39;49m\u001B[43mkwargs\u001B[49m\u001B[43m)\u001B[49m\n\u001B[1;32m   1780\u001B[0m result \u001B[38;5;241m=\u001B[39m \u001B[38;5;28;01mNone\u001B[39;00m\n\u001B[1;32m   1781\u001B[0m called_always_called_hooks \u001B[38;5;241m=\u001B[39m \u001B[38;5;28mset\u001B[39m()\n",
      "File \u001B[0;32m~/Desktop/miei file/ML/project/code/venv/lib/python3.9/site-packages/torch/nn/modules/container.py:245\u001B[0m, in \u001B[0;36mSequential.forward\u001B[0;34m(self, input)\u001B[0m\n\u001B[1;32m    243\u001B[0m \u001B[38;5;28;01mdef\u001B[39;00m\u001B[38;5;250m \u001B[39m\u001B[38;5;21mforward\u001B[39m(\u001B[38;5;28mself\u001B[39m, \u001B[38;5;28minput\u001B[39m):\n\u001B[1;32m    244\u001B[0m     \u001B[38;5;28;01mfor\u001B[39;00m module \u001B[38;5;129;01min\u001B[39;00m \u001B[38;5;28mself\u001B[39m:\n\u001B[0;32m--> 245\u001B[0m         \u001B[38;5;28minput\u001B[39m \u001B[38;5;241m=\u001B[39m \u001B[43mmodule\u001B[49m\u001B[43m(\u001B[49m\u001B[38;5;28;43minput\u001B[39;49m\u001B[43m)\u001B[49m\n\u001B[1;32m    246\u001B[0m     \u001B[38;5;28;01mreturn\u001B[39;00m \u001B[38;5;28minput\u001B[39m\n",
      "File \u001B[0;32m~/Desktop/miei file/ML/project/code/venv/lib/python3.9/site-packages/torch/nn/modules/module.py:1767\u001B[0m, in \u001B[0;36mModule._wrapped_call_impl\u001B[0;34m(self, *args, **kwargs)\u001B[0m\n\u001B[1;32m   1765\u001B[0m     \u001B[38;5;28;01mreturn\u001B[39;00m \u001B[38;5;28mself\u001B[39m\u001B[38;5;241m.\u001B[39m_compiled_call_impl(\u001B[38;5;241m*\u001B[39margs, \u001B[38;5;241m*\u001B[39m\u001B[38;5;241m*\u001B[39mkwargs)  \u001B[38;5;66;03m# type: ignore[misc]\u001B[39;00m\n\u001B[1;32m   1766\u001B[0m \u001B[38;5;28;01melse\u001B[39;00m:\n\u001B[0;32m-> 1767\u001B[0m     \u001B[38;5;28;01mreturn\u001B[39;00m \u001B[38;5;28;43mself\u001B[39;49m\u001B[38;5;241;43m.\u001B[39;49m\u001B[43m_call_impl\u001B[49m\u001B[43m(\u001B[49m\u001B[38;5;241;43m*\u001B[39;49m\u001B[43margs\u001B[49m\u001B[43m,\u001B[49m\u001B[43m \u001B[49m\u001B[38;5;241;43m*\u001B[39;49m\u001B[38;5;241;43m*\u001B[39;49m\u001B[43mkwargs\u001B[49m\u001B[43m)\u001B[49m\n",
      "File \u001B[0;32m~/Desktop/miei file/ML/project/code/venv/lib/python3.9/site-packages/torch/nn/modules/module.py:1778\u001B[0m, in \u001B[0;36mModule._call_impl\u001B[0;34m(self, *args, **kwargs)\u001B[0m\n\u001B[1;32m   1773\u001B[0m \u001B[38;5;66;03m# If we don't have any hooks, we want to skip the rest of the logic in\u001B[39;00m\n\u001B[1;32m   1774\u001B[0m \u001B[38;5;66;03m# this function, and just call forward.\u001B[39;00m\n\u001B[1;32m   1775\u001B[0m \u001B[38;5;28;01mif\u001B[39;00m \u001B[38;5;129;01mnot\u001B[39;00m (\u001B[38;5;28mself\u001B[39m\u001B[38;5;241m.\u001B[39m_backward_hooks \u001B[38;5;129;01mor\u001B[39;00m \u001B[38;5;28mself\u001B[39m\u001B[38;5;241m.\u001B[39m_backward_pre_hooks \u001B[38;5;129;01mor\u001B[39;00m \u001B[38;5;28mself\u001B[39m\u001B[38;5;241m.\u001B[39m_forward_hooks \u001B[38;5;129;01mor\u001B[39;00m \u001B[38;5;28mself\u001B[39m\u001B[38;5;241m.\u001B[39m_forward_pre_hooks\n\u001B[1;32m   1776\u001B[0m         \u001B[38;5;129;01mor\u001B[39;00m _global_backward_pre_hooks \u001B[38;5;129;01mor\u001B[39;00m _global_backward_hooks\n\u001B[1;32m   1777\u001B[0m         \u001B[38;5;129;01mor\u001B[39;00m _global_forward_hooks \u001B[38;5;129;01mor\u001B[39;00m _global_forward_pre_hooks):\n\u001B[0;32m-> 1778\u001B[0m     \u001B[38;5;28;01mreturn\u001B[39;00m \u001B[43mforward_call\u001B[49m\u001B[43m(\u001B[49m\u001B[38;5;241;43m*\u001B[39;49m\u001B[43margs\u001B[49m\u001B[43m,\u001B[49m\u001B[43m \u001B[49m\u001B[38;5;241;43m*\u001B[39;49m\u001B[38;5;241;43m*\u001B[39;49m\u001B[43mkwargs\u001B[49m\u001B[43m)\u001B[49m\n\u001B[1;32m   1780\u001B[0m result \u001B[38;5;241m=\u001B[39m \u001B[38;5;28;01mNone\u001B[39;00m\n\u001B[1;32m   1781\u001B[0m called_always_called_hooks \u001B[38;5;241m=\u001B[39m \u001B[38;5;28mset\u001B[39m()\n",
      "File \u001B[0;32m~/Desktop/miei file/ML/project/code/venv/lib/python3.9/site-packages/torchvision/models/resnet.py:96\u001B[0m, in \u001B[0;36mBasicBlock.forward\u001B[0;34m(self, x)\u001B[0m\n\u001B[1;32m     93\u001B[0m out \u001B[38;5;241m=\u001B[39m \u001B[38;5;28mself\u001B[39m\u001B[38;5;241m.\u001B[39mbn1(out)\n\u001B[1;32m     94\u001B[0m out \u001B[38;5;241m=\u001B[39m \u001B[38;5;28mself\u001B[39m\u001B[38;5;241m.\u001B[39mrelu(out)\n\u001B[0;32m---> 96\u001B[0m out \u001B[38;5;241m=\u001B[39m \u001B[38;5;28;43mself\u001B[39;49m\u001B[38;5;241;43m.\u001B[39;49m\u001B[43mconv2\u001B[49m\u001B[43m(\u001B[49m\u001B[43mout\u001B[49m\u001B[43m)\u001B[49m\n\u001B[1;32m     97\u001B[0m out \u001B[38;5;241m=\u001B[39m \u001B[38;5;28mself\u001B[39m\u001B[38;5;241m.\u001B[39mbn2(out)\n\u001B[1;32m     99\u001B[0m \u001B[38;5;28;01mif\u001B[39;00m \u001B[38;5;28mself\u001B[39m\u001B[38;5;241m.\u001B[39mdownsample \u001B[38;5;129;01mis\u001B[39;00m \u001B[38;5;129;01mnot\u001B[39;00m \u001B[38;5;28;01mNone\u001B[39;00m:\n",
      "File \u001B[0;32m~/Desktop/miei file/ML/project/code/venv/lib/python3.9/site-packages/torch/nn/modules/module.py:1767\u001B[0m, in \u001B[0;36mModule._wrapped_call_impl\u001B[0;34m(self, *args, **kwargs)\u001B[0m\n\u001B[1;32m   1765\u001B[0m     \u001B[38;5;28;01mreturn\u001B[39;00m \u001B[38;5;28mself\u001B[39m\u001B[38;5;241m.\u001B[39m_compiled_call_impl(\u001B[38;5;241m*\u001B[39margs, \u001B[38;5;241m*\u001B[39m\u001B[38;5;241m*\u001B[39mkwargs)  \u001B[38;5;66;03m# type: ignore[misc]\u001B[39;00m\n\u001B[1;32m   1766\u001B[0m \u001B[38;5;28;01melse\u001B[39;00m:\n\u001B[0;32m-> 1767\u001B[0m     \u001B[38;5;28;01mreturn\u001B[39;00m \u001B[38;5;28;43mself\u001B[39;49m\u001B[38;5;241;43m.\u001B[39;49m\u001B[43m_call_impl\u001B[49m\u001B[43m(\u001B[49m\u001B[38;5;241;43m*\u001B[39;49m\u001B[43margs\u001B[49m\u001B[43m,\u001B[49m\u001B[43m \u001B[49m\u001B[38;5;241;43m*\u001B[39;49m\u001B[38;5;241;43m*\u001B[39;49m\u001B[43mkwargs\u001B[49m\u001B[43m)\u001B[49m\n",
      "File \u001B[0;32m~/Desktop/miei file/ML/project/code/venv/lib/python3.9/site-packages/torch/nn/modules/module.py:1778\u001B[0m, in \u001B[0;36mModule._call_impl\u001B[0;34m(self, *args, **kwargs)\u001B[0m\n\u001B[1;32m   1773\u001B[0m \u001B[38;5;66;03m# If we don't have any hooks, we want to skip the rest of the logic in\u001B[39;00m\n\u001B[1;32m   1774\u001B[0m \u001B[38;5;66;03m# this function, and just call forward.\u001B[39;00m\n\u001B[1;32m   1775\u001B[0m \u001B[38;5;28;01mif\u001B[39;00m \u001B[38;5;129;01mnot\u001B[39;00m (\u001B[38;5;28mself\u001B[39m\u001B[38;5;241m.\u001B[39m_backward_hooks \u001B[38;5;129;01mor\u001B[39;00m \u001B[38;5;28mself\u001B[39m\u001B[38;5;241m.\u001B[39m_backward_pre_hooks \u001B[38;5;129;01mor\u001B[39;00m \u001B[38;5;28mself\u001B[39m\u001B[38;5;241m.\u001B[39m_forward_hooks \u001B[38;5;129;01mor\u001B[39;00m \u001B[38;5;28mself\u001B[39m\u001B[38;5;241m.\u001B[39m_forward_pre_hooks\n\u001B[1;32m   1776\u001B[0m         \u001B[38;5;129;01mor\u001B[39;00m _global_backward_pre_hooks \u001B[38;5;129;01mor\u001B[39;00m _global_backward_hooks\n\u001B[1;32m   1777\u001B[0m         \u001B[38;5;129;01mor\u001B[39;00m _global_forward_hooks \u001B[38;5;129;01mor\u001B[39;00m _global_forward_pre_hooks):\n\u001B[0;32m-> 1778\u001B[0m     \u001B[38;5;28;01mreturn\u001B[39;00m \u001B[43mforward_call\u001B[49m\u001B[43m(\u001B[49m\u001B[38;5;241;43m*\u001B[39;49m\u001B[43margs\u001B[49m\u001B[43m,\u001B[49m\u001B[43m \u001B[49m\u001B[38;5;241;43m*\u001B[39;49m\u001B[38;5;241;43m*\u001B[39;49m\u001B[43mkwargs\u001B[49m\u001B[43m)\u001B[49m\n\u001B[1;32m   1780\u001B[0m result \u001B[38;5;241m=\u001B[39m \u001B[38;5;28;01mNone\u001B[39;00m\n\u001B[1;32m   1781\u001B[0m called_always_called_hooks \u001B[38;5;241m=\u001B[39m \u001B[38;5;28mset\u001B[39m()\n",
      "File \u001B[0;32m~/Desktop/miei file/ML/project/code/venv/lib/python3.9/site-packages/torch/nn/modules/conv.py:554\u001B[0m, in \u001B[0;36mConv2d.forward\u001B[0;34m(self, input)\u001B[0m\n\u001B[1;32m    553\u001B[0m \u001B[38;5;28;01mdef\u001B[39;00m\u001B[38;5;250m \u001B[39m\u001B[38;5;21mforward\u001B[39m(\u001B[38;5;28mself\u001B[39m, \u001B[38;5;28minput\u001B[39m: Tensor) \u001B[38;5;241m-\u001B[39m\u001B[38;5;241m>\u001B[39m Tensor:\n\u001B[0;32m--> 554\u001B[0m     \u001B[38;5;28;01mreturn\u001B[39;00m \u001B[38;5;28;43mself\u001B[39;49m\u001B[38;5;241;43m.\u001B[39;49m\u001B[43m_conv_forward\u001B[49m\u001B[43m(\u001B[49m\u001B[38;5;28;43minput\u001B[39;49m\u001B[43m,\u001B[49m\u001B[43m \u001B[49m\u001B[38;5;28;43mself\u001B[39;49m\u001B[38;5;241;43m.\u001B[39;49m\u001B[43mweight\u001B[49m\u001B[43m,\u001B[49m\u001B[43m \u001B[49m\u001B[38;5;28;43mself\u001B[39;49m\u001B[38;5;241;43m.\u001B[39;49m\u001B[43mbias\u001B[49m\u001B[43m)\u001B[49m\n",
      "File \u001B[0;32m~/Desktop/miei file/ML/project/code/venv/lib/python3.9/site-packages/torch/nn/modules/conv.py:549\u001B[0m, in \u001B[0;36mConv2d._conv_forward\u001B[0;34m(self, input, weight, bias)\u001B[0m\n\u001B[1;32m    537\u001B[0m \u001B[38;5;28;01mif\u001B[39;00m \u001B[38;5;28mself\u001B[39m\u001B[38;5;241m.\u001B[39mpadding_mode \u001B[38;5;241m!=\u001B[39m \u001B[38;5;124m\"\u001B[39m\u001B[38;5;124mzeros\u001B[39m\u001B[38;5;124m\"\u001B[39m:\n\u001B[1;32m    538\u001B[0m     \u001B[38;5;28;01mreturn\u001B[39;00m F\u001B[38;5;241m.\u001B[39mconv2d(\n\u001B[1;32m    539\u001B[0m         F\u001B[38;5;241m.\u001B[39mpad(\n\u001B[1;32m    540\u001B[0m             \u001B[38;5;28minput\u001B[39m, \u001B[38;5;28mself\u001B[39m\u001B[38;5;241m.\u001B[39m_reversed_padding_repeated_twice, mode\u001B[38;5;241m=\u001B[39m\u001B[38;5;28mself\u001B[39m\u001B[38;5;241m.\u001B[39mpadding_mode\n\u001B[0;32m   (...)\u001B[0m\n\u001B[1;32m    547\u001B[0m         \u001B[38;5;28mself\u001B[39m\u001B[38;5;241m.\u001B[39mgroups,\n\u001B[1;32m    548\u001B[0m     )\n\u001B[0;32m--> 549\u001B[0m \u001B[38;5;28;01mreturn\u001B[39;00m \u001B[43mF\u001B[49m\u001B[38;5;241;43m.\u001B[39;49m\u001B[43mconv2d\u001B[49m\u001B[43m(\u001B[49m\n\u001B[1;32m    550\u001B[0m \u001B[43m    \u001B[49m\u001B[38;5;28;43minput\u001B[39;49m\u001B[43m,\u001B[49m\u001B[43m \u001B[49m\u001B[43mweight\u001B[49m\u001B[43m,\u001B[49m\u001B[43m \u001B[49m\u001B[43mbias\u001B[49m\u001B[43m,\u001B[49m\u001B[43m \u001B[49m\u001B[38;5;28;43mself\u001B[39;49m\u001B[38;5;241;43m.\u001B[39;49m\u001B[43mstride\u001B[49m\u001B[43m,\u001B[49m\u001B[43m \u001B[49m\u001B[38;5;28;43mself\u001B[39;49m\u001B[38;5;241;43m.\u001B[39;49m\u001B[43mpadding\u001B[49m\u001B[43m,\u001B[49m\u001B[43m \u001B[49m\u001B[38;5;28;43mself\u001B[39;49m\u001B[38;5;241;43m.\u001B[39;49m\u001B[43mdilation\u001B[49m\u001B[43m,\u001B[49m\u001B[43m \u001B[49m\u001B[38;5;28;43mself\u001B[39;49m\u001B[38;5;241;43m.\u001B[39;49m\u001B[43mgroups\u001B[49m\n\u001B[1;32m    551\u001B[0m \u001B[43m\u001B[49m\u001B[43m)\u001B[49m\n",
      "\u001B[0;31mKeyboardInterrupt\u001B[0m: "
     ]
    }
   ],
   "execution_count": 35
  },
  {
   "metadata": {},
   "cell_type": "code",
   "outputs": [],
   "execution_count": null,
   "source": "",
   "id": "da80834d788e6dfe"
  }
 ],
 "metadata": {
  "kernelspec": {
   "display_name": "Python 3",
   "language": "python",
   "name": "python3"
  },
  "language_info": {
   "codemirror_mode": {
    "name": "ipython",
    "version": 2
   },
   "file_extension": ".py",
   "mimetype": "text/x-python",
   "name": "python",
   "nbconvert_exporter": "python",
   "pygments_lexer": "ipython2",
   "version": "2.7.6"
  }
 },
 "nbformat": 4,
 "nbformat_minor": 5
}
